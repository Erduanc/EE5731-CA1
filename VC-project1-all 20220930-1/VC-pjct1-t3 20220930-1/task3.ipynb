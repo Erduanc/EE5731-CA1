{
 "cells": [
  {
   "cell_type": "markdown",
   "id": "eeda43a7",
   "metadata": {},
   "source": [
    "# Homography\n",
    "Firstly, write a function that computes homography given 4 chosen points:"
   ]
  },
  {
   "cell_type": "code",
   "execution_count": 1,
   "id": "0646b14c",
   "metadata": {},
   "outputs": [],
   "source": [
    "import numpy as np\n",
    "import scipy.linalg as linalg\n",
    "import cv2\n",
    "from PIL import Image\n",
    "from pylab import *\n",
    "import matplotlib as mpl\n",
    "import matplotlib.pyplot as plt\n",
    "import yaml\n",
    "import cv2\n",
    "\n",
    "%matplotlib inline\n",
    "%config InlineBackend.figure_format = 'retina'"
   ]
  },
  {
   "cell_type": "code",
   "execution_count": 3,
   "id": "1dc5ab55",
   "metadata": {},
   "outputs": [],
   "source": [
    "def getHomography(x1, x2, x3, x4, y1, y2, y3, y4):\n",
    "    print(x1, x2, x3, x4, y1, y2, y3, y4)\n",
    "    A = np.array([[x1[0],x1[1],1, 0,0,0, -x1[0]*y1[0],-x1[1]*y1[0],-y1[0]],\n",
    "                  [0,0,0, x1[0],x1[1],1, -x1[0]*y1[1],-x1[1]*y1[1],-y1[1]],\n",
    "                  [x2[0],x2[1],1, 0,0,0, -x2[0]*y2[0],-x2[1]*y2[0],-y2[0]],\n",
    "                  [0,0,0, x2[0],x2[1],1, -x2[0]*y2[1],-x2[1]*y2[1],-y2[1]],\n",
    "                  [x3[0],x3[1],1, 0,0,0, -x3[0]*y3[0],-x3[1]*y3[0],-y3[0]],\n",
    "                  [0,0,0, x3[0],x3[1],1, -x3[0]*y3[1],-x3[1]*y3[1],-y3[1]],\n",
    "                  [x4[0],x4[1],1, 0,0,0, -x4[0]*y4[0],-x4[1]*y4[0],-y4[0]],\n",
    "                  [0,0,0, x4[0],x4[1],1, -x4[0]*y4[1],-x4[1]*y4[1],-y4[1]]])\n",
    "#     print(A)\n",
    "    U, D, Vt = linalg.svd(A)\n",
    "    H = Vt[-1].reshape(3,3)\n",
    "#     print(H)\n",
    "    \n",
    "    return H"
   ]
  },
  {
   "cell_type": "code",
   "execution_count": 5,
   "id": "4c68abfe",
   "metadata": {},
   "outputs": [
    {
     "name": "stdout",
     "output_type": "stream",
     "text": [
      "[93, 63] [293, 868] [1207, 998] [1218, 309] [-7, 0] [3, -6] [7, -4] [3, 2]\n",
      "[[ 7.66575414e-04  1.58444870e-03 -9.92728904e-01]\n",
      " [ 6.18613947e-04 -1.66221257e-03  4.71882946e-02]\n",
      " [ 1.53502369e-07  1.05575751e-04  1.10708327e-01]]\n",
      "[-7.00000000e+00 -8.87063696e-13  1.00000000e+00]\n",
      "[ 3. -6.  1.]\n",
      "[ 7. -4.  1.]\n",
      "[3. 2. 1.]\n"
     ]
    }
   ],
   "source": [
    "# Testing block:\n",
    "# getHomography(np.array([11, 12]), np.array([21, 22]), np.array([31,32]), np.array([41,42]), \n",
    "#               np.array([110, 120]), np.array([210, 220]), np.array([310,320]), np.array([410, 420]))\n",
    "# x_1 = [93,-7]\n",
    "# y_1 = [63,0]\n",
    "# x_2 = [293,3]\n",
    "# y_2 = [868,-6]\n",
    "# x_3 = [1207,7]\n",
    "# y_3 = [998,-4]\n",
    "# x_4 = [1218,3]\n",
    "# y_4 = [309,2]\n",
    "\n",
    "x_1 = [93,63]\n",
    "y_1 = [-7,0]\n",
    "x_2 = [293,868]\n",
    "y_2 = [3,-6]\n",
    "x_3 = [1207,998]\n",
    "y_3 = [7,-4]\n",
    "x_4 = [1218,309]\n",
    "y_4 = [3,2]\n",
    "H = getHomography(x_1, x_2, x_3, x_4, y_1, y_2, y_3, y_4)\n",
    "print(H)\n",
    "y_t = np.matmul(H, np.array([93,63,1]))\n",
    "y_t = y_t/y_t[2]\n",
    "print(y_t)\n",
    "y_t = np.matmul(H, np.array([293,868,1]))\n",
    "y_t = y_t/y_t[2]\n",
    "print(y_t)\n",
    "y_t = np.matmul(H, np.array([1207,998,1]))\n",
    "y_t = y_t/y_t[2]\n",
    "print(y_t)\n",
    "y_t = np.matmul(H, np.array([1218,309,1]))\n",
    "y_t = y_t/y_t[2]\n",
    "print(y_t)"
   ]
  },
  {
   "cell_type": "code",
   "execution_count": 6,
   "id": "b26614e4",
   "metadata": {},
   "outputs": [
    {
     "name": "stdout",
     "output_type": "stream",
     "text": [
      "[[ 7.66575414e-04  1.58444870e-03 -9.92728904e-01]\n",
      " [ 6.18613947e-04 -1.66221257e-03  4.71882946e-02]\n",
      " [ 1.53502369e-07  1.05575751e-04  1.10708327e-01]]\n"
     ]
    }
   ],
   "source": [
    "# Testing block:\n",
    "x_1 = [93,-7]\n",
    "y_1 = [63,0]\n",
    "x_2 = [293,3]\n",
    "y_2 = [868,-6]\n",
    "x_3 = [1207,7]\n",
    "y_3 = [998,-4]\n",
    "x_4 = [1218,3]\n",
    "y_4 = [309,2]\n",
    "P = np.array([\n",
    "    [-x_1[0], -y_1[0], -1, 0, 0, 0, x_1[0]*x_1[1], y_1[0]*x_1[1], x_1[1]],\n",
    "    [0, 0, 0, -x_1[0], -y_1[0], -1, x_1[0]*y_1[1], y_1[0]*y_1[1], y_1[1]],\n",
    "    [-x_2[0], -y_2[0], -1, 0, 0, 0, x_2[0]*x_2[1], y_2[0]*x_2[1], x_2[1]],\n",
    "    [0, 0, 0, -x_2[0], -y_2[0], -1, x_2[0]*y_2[1], y_2[0]*y_2[1], y_2[1]],\n",
    "    [-x_3[0], -y_3[0], -1, 0, 0, 0, x_3[0]*x_3[1], y_3[0]*x_3[1], x_3[1]],\n",
    "    [0, 0, 0, -x_3[0], -y_3[0], -1, x_3[0]*y_3[1], y_3[0]*y_3[1], y_3[1]],\n",
    "    [-x_4[0], -y_4[0], -1, 0, 0, 0, x_4[0]*x_4[1], y_4[0]*x_4[1], x_4[1]],\n",
    "    [0, 0, 0, -x_4[0], -y_4[0], -1, x_4[0]*y_4[1], y_4[0]*y_4[1], y_4[1]],\n",
    "    ])\n",
    "\n",
    "[U, S, Vt] = np.linalg.svd(P)\n",
    "homography = Vt[-1].reshape(3, 3)\n",
    "print(homography)\n",
    "# transformedPoint = homography @ np.array([1679,  128, 1]).transpose()\n",
    "# print(transformedPoint/transformedPoint[-1]) # will be ~[4, 7, 1]"
   ]
  },
  {
   "cell_type": "markdown",
   "id": "eacf7c1c",
   "metadata": {},
   "source": [
    "Second of all, allow users to select points on images:"
   ]
  },
  {
   "cell_type": "code",
   "execution_count": 4,
   "id": "0515b47e",
   "metadata": {},
   "outputs": [],
   "source": [
    "%matplotlib tk\n",
    "def choosePoints(img1, img2):\n",
    "\n",
    "    matplotlib.use('TkAgg')\n",
    "\n",
    "#     img1 = Image.open('h1.jpg')\n",
    "#     arrImg1 = np.array(img1)\n",
    "    imshow(img1, interpolation='none')\n",
    "    chosenPoints1 = ginput(4) \n",
    "    print(chosenPoints1)\n",
    "    \n",
    "#     img2 = Image.open('h2.jpg')\n",
    "#     arrImg2 = np.array(img2)\n",
    "    imshow(img2, interpolation='none')\n",
    "    chosenPoints2 = ginput(4) \n",
    "    print(chosenPoints2)\n",
    "    \n",
    "    return chosenPoints1, chosenPoints2"
   ]
  },
  {
   "cell_type": "markdown",
   "id": "21413b13",
   "metadata": {},
   "source": [
    "Third of all, we need to involve our images with the getHomography function. So we need to import the images, then compute image matrix multiplying with the homography."
   ]
  },
  {
   "cell_type": "code",
   "execution_count": 110,
   "id": "e780cde4",
   "metadata": {},
   "outputs": [],
   "source": [
    "def computeHomographyTransformation(img1, img2):\n",
    "#     img1 = cv2.imread('h1.jpg')\n",
    "#     arrImg1 = np.array(Image.open('h1.jpg').convert('L'),'f')\n",
    "#     img2 = cv2.imread('h2.jpg')\n",
    "#     arrImg1 = np.array(Image.open('h1.jpg').convert('L'),'f')\n",
    "    imgSizeX = img1.shape[0]\n",
    "    imgSizeY = img1.shape[1]\n",
    "    newSizeX = img2.shape[0] \n",
    "    newSizeY = img2.shape[1]\n",
    "    newImg = np.zeros((newSizeX, newSizeY, 3),np.uint8)\n",
    "    \n",
    "#     # read the chosen points:\n",
    "#     chosenPts1, chosenPts2 = choosePoints(img1, img2)\n",
    "#     H = getHomography(chosenPts1[0], chosenPts1[1], chosenPts1[2], chosenPts1[3],\n",
    "#                       chosenPts2[0], chosenPts2[1], chosenPts2[2], chosenPts2[3])\n",
    "#     HInverse = np.linalg.pinv(H)\n",
    "    \n",
    "#     newImg = cv2.warpPerspective(img1, H, (newSizeY,newSizeX))\n",
    "    \n",
    "    # read the chosen points:\n",
    "    chosenPts1, chosenPts2 = choosePoints(img1, img2)\n",
    "    \n",
    "    H = getHomography(chosenPts1[0], chosenPts1[1], chosenPts1[2], chosenPts1[3],\n",
    "                      chosenPts2[0], chosenPts2[1], chosenPts2[2], chosenPts2[3])\n",
    "    HInverse = np.linalg.pinv(H)\n",
    "    \n",
    "    for i in range(0, newSizeY):\n",
    "        for j in range(0, newSizeX):\n",
    "            newPos = np.array([i, j, 1])\n",
    "            orgPos = HInverse.dot(newPos) # find the corresponding indexes in the original image by H^(-1)\n",
    "            orgPos = orgPos/orgPos[2] # normalize the indexes\n",
    "            orgPosX = int(orgPos[0]) # round the indexes to integer\n",
    "            orgPosY = int(orgPos[1])\n",
    "            if((orgPosX >= 0 and orgPosX < imgSizeY) and (orgPosY >= 0 and orgPosY < imgSizeX)):\n",
    "                newImg[j][i] = img1[orgPosY][orgPosX]    \n",
    "    \n",
    "    \n",
    "    \n",
    "#     # transform img1 to img2:\n",
    "#     for i in range(0, newSizeX):\n",
    "#         for j in range(0,newSizeY):\n",
    "#             newPos = np.array([i, j, 1])\n",
    "# #             if(i==293):\n",
    "# #                 print('newPos:')\n",
    "# #                 print(newPos)\n",
    "#             orgPos = np.matmul(HInverse, newPos) # find the corresponding indexes in the original image by H^(-1)\n",
    "#             orgPos = orgPos/orgPos[2] # normalize the indexes\n",
    "#             orgPosX = int(orgPos[0]) # round the indexes to integer\n",
    "#             orgPosY = int(orgPos[1])\n",
    "#             if(orgPosX >= 0 and orgPosX < imgSizeX and orgPosY >= 0 and orgPosY < imgSizeY):\n",
    "#                 newImg[i][j] = img1[orgPosX][orgPosY]\n",
    "# #             newPos = np.matmul(H, np.array([i,j,1]))\n",
    "# #             newPos = newPos/newPos[2]\n",
    "# #             newPosX = int(newPos[0])\n",
    "# #             newPosY = int(newPos[1])\n",
    "# #             if(newPosX >=0 and newPosX < imgSizeX and newPosY >=0 and newPosY < imgSizeY):\n",
    "# #                 newImg[newPosX][newPosY] = img1[i][j]\n",
    "    # Draw img\n",
    "#     plt.imshow(cv2.cvtColor(newImg,cv2.COLOR_BGR2RGB), interpolation='none')\n",
    "    plt.imshow(newImg/255)\n",
    "    plt.show()"
   ]
  },
  {
   "cell_type": "code",
   "execution_count": 112,
   "id": "208ae7d6",
   "metadata": {},
   "outputs": [
    {
     "name": "stdout",
     "output_type": "stream",
     "text": [
      "[(67.49116997792487, 73.67218543046374), (1149.1688741721855, 57.11589403973517), (45.41611479028688, 1133.2748344370862), (1116.0562913907283, 1144.3123620309052)]\n",
      "[(53.575607064017674, 205.8570640176601), (477.4120676968361, 14.185798381162726), (353.2306843267109, 519.0101177336277), (806.7626931567331, 276.0465415746873)]\n",
      "[(95.08498896247227, 57.11589403973517), (1160.206401766004, 57.11589403973517), (67.49116997792487, 1160.8686534216336), (1160.206401766004, 1138.7935982339957)]\n",
      "[(53.575607064017674, 213.95584988962474), (450.41611479028717, 27.683774834437145), (385.6258278145696, 500.11295069904344), (795.9643119941136, 292.24411331861666)]\n",
      "(95.08498896247227, 57.11589403973517) (1160.206401766004, 57.11589403973517) (67.49116997792487, 1160.8686534216336) (1160.206401766004, 1138.7935982339957) (53.575607064017674, 213.95584988962474) (450.41611479028717, 27.683774834437145) (385.6258278145696, 500.11295069904344) (795.9643119941136, 292.24411331861666)\n"
     ]
    }
   ],
   "source": [
    "# Testing block\n",
    "img1 = cv2.imread('h1.jpg')\n",
    "img2 = cv2.imread('h2.jpg')\n",
    "img2 = cv2.cvtColor(img2, cv2.COLOR_BGR2RGB)\n",
    "computeHomographyTransformation(img1, img2)"
   ]
  },
  {
   "cell_type": "code",
   "execution_count": 113,
   "id": "b4b51a3e",
   "metadata": {},
   "outputs": [
    {
     "name": "stdout",
     "output_type": "stream",
     "text": [
      "[(53.575607064017674, 205.8570640176601), (469.31328182487135, 19.584988962472494), (377.52704194260497, 524.4093083149374), (798.6639072847686, 286.8449227373069)]\n",
      "[(56.45364238410582, 79.19094922737327), (1154.6876379690948, 57.11589403973517), (73.0099337748344, 1122.237306843267), (1138.1313465783664, 1122.237306843267)]\n",
      "[(40.0776306107432, 203.1574687270052), (463.9140912435616, 27.683774834437145), (369.4282560706403, 524.4093083149374), (804.0630978660784, 289.5445180279618)]\n",
      "[(67.49116997792487, 46.07836644591612), (1187.800220750552, 51.59713024282564), (56.45364238410582, 1138.7935982339957), (1132.6125827814567, 1127.7560706401766)]\n",
      "(40.0776306107432, 203.1574687270052) (463.9140912435616, 27.683774834437145) (369.4282560706403, 524.4093083149374) (804.0630978660784, 289.5445180279618) (67.49116997792487, 46.07836644591612) (1187.800220750552, 51.59713024282564) (56.45364238410582, 1138.7935982339957) (1132.6125827814567, 1127.7560706401766)\n"
     ]
    }
   ],
   "source": [
    "# Testing block\n",
    "img1 = cv2.imread('h1.jpg')\n",
    "img2 = cv2.imread('h2.jpg')\n",
    "img2 = cv2.cvtColor(img2, cv2.COLOR_BGR2RGB)\n",
    "computeHomographyTransformation(img2, img1)"
   ]
  },
  {
   "cell_type": "markdown",
   "id": "cc685c3b",
   "metadata": {},
   "source": [
    "Now, for the Simpsons case:"
   ]
  },
  {
   "cell_type": "code",
   "execution_count": 23,
   "id": "4cdceed7",
   "metadata": {},
   "outputs": [],
   "source": [
    "def getMinMax(array):\n",
    "    minX = np.min(array[0,:])\n",
    "    minY = np.min(array[1,:])\n",
    "    maxX = np.max(array[0,:])\n",
    "    maxY = np.max(array[1,:])\n",
    "    return minX, minY, maxX, maxY"
   ]
  },
  {
   "cell_type": "code",
   "execution_count": 26,
   "id": "305b2024",
   "metadata": {},
   "outputs": [
    {
     "name": "stdout",
     "output_type": "stream",
     "text": [
      "(-11, -100, 11, 21)\n"
     ]
    }
   ],
   "source": [
    "# Testing block:\n",
    "array = np.array([[3,1,1,11,-11,3,-7],[-1,0,1,19,21,-100,0],[1,1,1,1,1,1,1]])\n",
    "print(getMinMax(array))"
   ]
  },
  {
   "cell_type": "code",
   "execution_count": 108,
   "id": "a26e1495",
   "metadata": {},
   "outputs": [],
   "source": [
    "def computeHomographyAndConcat(img1, img2):\n",
    "#     img1 = cv2.imread('h1.jpg')\n",
    "#     arrImg1 = np.array(Image.open('h1.jpg').convert('L'),'f')\n",
    "#     img2 = cv2.imread('h2.jpg')\n",
    "#     arrImg1 = np.array(Image.open('h1.jpg').convert('L'),'f')\n",
    "    imgSizeX = img1.shape[0]\n",
    "    imgSizeY = img1.shape[1]\n",
    "    newSizeX = img2.shape[0] \n",
    "    newSizeY = img2.shape[1]\n",
    "    newImg = img2\n",
    "    \n",
    "    # read the chosen points:\n",
    "    chosenPts1, chosenPts2 = choosePoints(img1, img2)\n",
    "    \n",
    "    H = getHomography(chosenPts1[0], chosenPts1[1], chosenPts1[2], chosenPts1[3],\n",
    "                      chosenPts2[0], chosenPts2[1], chosenPts2[2], chosenPts2[3])\n",
    "    HInverse = np.linalg.pinv(H)\n",
    "\n",
    "    \n",
    "    for i in range(0, newSizeY):\n",
    "        for j in range(0, newSizeX):\n",
    "            newPos = np.array([i, j, 1])\n",
    "            orgPos = HInverse.dot(newPos) # find the corresponding indexes in the original image by H^(-1)\n",
    "            orgPos = orgPos/orgPos[2] # normalize the indexes\n",
    "            orgPosX = int(orgPos[0]) # round the indexes to integer\n",
    "            orgPosY = int(orgPos[1])\n",
    "            if((orgPosX >= 0 and orgPosX < imgSizeY) and (orgPosY >= 0 and orgPosY < imgSizeX)):\n",
    "                newImg[j][i] = img1[orgPosY][orgPosX]       \n",
    "                \n",
    "    # Draw img\n",
    "    plt.imshow(newImg/255)\n",
    "    plt.show()"
   ]
  },
  {
   "cell_type": "code",
   "execution_count": 109,
   "id": "2411b35d",
   "metadata": {},
   "outputs": [
    {
     "name": "stdout",
     "output_type": "stream",
     "text": [
      "[(13.459062325146306, 19.142066759643512), (978.0248407004999, 16.63670110152566), (13.459062325146306, 1482.27561110044), (985.5409376748532, 1477.2648797842044)]\n",
      "[(581.5316845243561, 208.26537250611716), (795.2928229625111, 231.08257267648207), (597.1434530619742, 518.0989327142296), (803.6991598673824, 465.259100740753)]\n",
      "(13.459062325146306, 19.142066759643512) (978.0248407004999, 16.63670110152566) (13.459062325146306, 1482.27561110044) (985.5409376748532, 1477.2648797842044) (581.5316845243561, 208.26537250611716) (795.2928229625111, 231.08257267648207) (597.1434530619742, 518.0989327142296) (803.6991598673824, 465.259100740753)\n"
     ]
    }
   ],
   "source": [
    "# Testing block\n",
    "imgSimpsons = cv2.imread('simpsons.jpg')\n",
    "imgSimpsons = cv2.cvtColor(imgSimpsons, cv2.COLOR_BGR2RGB)\n",
    "imgBus = cv2.imread('bus.jpg')\n",
    "imgBus = cv2.cvtColor(imgBus, cv2.COLOR_BGR2RGB)\n",
    "computeHomographyAndConcat(imgSimpsons, imgBus)"
   ]
  },
  {
   "cell_type": "code",
   "execution_count": 84,
   "id": "91228069",
   "metadata": {},
   "outputs": [],
   "source": [
    "# # Testing block\n",
    "# # img1 = Image.open('h1.jpg'), cv2.COLOR_BGR2RGB\n",
    "# # img2 = Image.open('h2.jpg'), cv2.COLOR_BGR2RGB\n",
    "# # arrImg1 = np.array(img1.convert('L'),'f')\n",
    "# # arrImg2 = np.array(img2.convert('L'),'f')\n",
    "# arrImg1 = np.array(Image.open('h1.jpg').convert('L'),'f')\n",
    "# arrImg2 = np.array(Image.open('h2.jpg').convert('L'),'f')\n",
    "# # arrImg1 = cv2.cvtColor(arrImg1, cv2.COLOR_BGR2RGB) # Working\n",
    "# # arrImg2 = cv2.cvtColor(arrImg2, cv2.COLOR_BGR2RGB) # Not Working\n",
    "\n",
    "# # arrImg1 = np.array(img1.convert('L'),'f')\n",
    "# # arrImg2 = np.array(img2.convert('L'),'f')\n",
    "# computeHomographyTransformation(arrImg1, arrImg2)\n",
    "# # arrImg1 = np.array(Image.open('h1.jpg').convert('L'),'f')\n",
    "# # arrImg2 = np.array(Image.open('h2.jpg').convert('L'),'f')\n",
    "# # computeHomographyTransformation(img1, img2)"
   ]
  },
  {
   "cell_type": "code",
   "execution_count": 85,
   "id": "d11c30e5",
   "metadata": {},
   "outputs": [],
   "source": [
    "# arrImg1 = np.array(Image.open('h1.jpg').convert('L'),'f')\n",
    "# arrImg2 = np.array(Image.open('h2.jpg').convert('L'),'f')\n",
    "# computeHomographyTransformation(arrImg2, arrImg1)"
   ]
  },
  {
   "cell_type": "code",
   "execution_count": 86,
   "id": "5ed5c12c",
   "metadata": {},
   "outputs": [],
   "source": [
    "# import matplotlib\n",
    "# %matplotlib tk\n",
    "\n",
    "# matplotlib.use('TkAgg')\n",
    "\n",
    "# img1 = Image.open('h1.jpg')\n",
    "# arrImg1 = np.array(img1)\n",
    "# imshow(img1)\n",
    "\n",
    "# chosenPoints1 = ginput(4) \n",
    "# print(chosenPoints1)\n"
   ]
  },
  {
   "cell_type": "code",
   "execution_count": 87,
   "id": "4abe2ddf",
   "metadata": {},
   "outputs": [],
   "source": [
    "# img2 = Image.open('h2.jpg')\n",
    "# arrImg2 = np.array(img2)\n",
    "# imshow(img2)\n",
    "\n",
    "# chosenPoints2 = ginput(4) \n",
    "# print(chosenPoints2)"
   ]
  },
  {
   "cell_type": "code",
   "execution_count": 9,
   "id": "4d77d72b",
   "metadata": {},
   "outputs": [],
   "source": []
  },
  {
   "cell_type": "code",
   "execution_count": null,
   "id": "611cd32b",
   "metadata": {},
   "outputs": [],
   "source": []
  }
 ],
 "metadata": {
  "kernelspec": {
   "display_name": "Python 3 (ipykernel)",
   "language": "python",
   "name": "python3"
  },
  "language_info": {
   "codemirror_mode": {
    "name": "ipython",
    "version": 3
   },
   "file_extension": ".py",
   "mimetype": "text/x-python",
   "name": "python",
   "nbconvert_exporter": "python",
   "pygments_lexer": "ipython3",
   "version": "3.9.12"
  }
 },
 "nbformat": 4,
 "nbformat_minor": 5
}
