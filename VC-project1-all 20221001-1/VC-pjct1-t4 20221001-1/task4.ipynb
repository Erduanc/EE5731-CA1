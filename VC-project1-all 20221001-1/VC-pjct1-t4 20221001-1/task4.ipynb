{
 "cells": [
  {
   "cell_type": "code",
   "execution_count": 2,
   "id": "c0e3395f",
   "metadata": {},
   "outputs": [],
   "source": [
    "import numpy as np\n",
    "import scipy.linalg as linalg\n",
    "import cv2\n",
    "from PIL import Image\n",
    "from pylab import *\n",
    "import matplotlib as mpl\n",
    "import matplotlib.pyplot as plt\n",
    "import yaml\n",
    "import cv2\n",
    "\n",
    "%matplotlib inline\n",
    "%config InlineBackend.figure_format = 'retina'"
   ]
  },
  {
   "cell_type": "code",
   "execution_count": 3,
   "id": "08020fd5",
   "metadata": {},
   "outputs": [],
   "source": [
    "def getHomography(x1, x2, x3, x4, y1, y2, y3, y4):\n",
    "    print(x1, x2, x3, x4, y1, y2, y3, y4)\n",
    "    A = np.array([[x1[0],x1[1],1, 0,0,0, -x1[0]*y1[0],-x1[1]*y1[0],-y1[0]],\n",
    "                  [0,0,0, x1[0],x1[1],1, -x1[0]*y1[1],-x1[1]*y1[1],-y1[1]],\n",
    "                  [x2[0],x2[1],1, 0,0,0, -x2[0]*y2[0],-x2[1]*y2[0],-y2[0]],\n",
    "                  [0,0,0, x2[0],x2[1],1, -x2[0]*y2[1],-x2[1]*y2[1],-y2[1]],\n",
    "                  [x3[0],x3[1],1, 0,0,0, -x3[0]*y3[0],-x3[1]*y3[0],-y3[0]],\n",
    "                  [0,0,0, x3[0],x3[1],1, -x3[0]*y3[1],-x3[1]*y3[1],-y3[1]],\n",
    "                  [x4[0],x4[1],1, 0,0,0, -x4[0]*y4[0],-x4[1]*y4[0],-y4[0]],\n",
    "                  [0,0,0, x4[0],x4[1],1, -x4[0]*y4[1],-x4[1]*y4[1],-y4[1]]])\n",
    "#     print(A)\n",
    "    U, D, Vt = linalg.svd(A)\n",
    "    H = Vt[-1].reshape(3,3)\n",
    "#     print(H)\n",
    "    \n",
    "    return H"
   ]
  },
  {
   "cell_type": "code",
   "execution_count": 53,
   "id": "f2368fbf",
   "metadata": {},
   "outputs": [],
   "source": [
    "%matplotlib tk\n",
    "def choosePoints(img1, img2):\n",
    "\n",
    "    matplotlib.use('TkAgg')\n",
    "\n",
    "    imshow(img1, interpolation='none')\n",
    "    chosenPoints1 = ginput(4) \n",
    "#     print(chosenPoints1)\n",
    "    \n",
    "    imshow(img2, interpolation='none')\n",
    "    chosenPoints2 = ginput(4) \n",
    "#     print(chosenPoints2)\n",
    "    \n",
    "    return chosenPoints1, chosenPoints2"
   ]
  },
  {
   "cell_type": "code",
   "execution_count": 70,
   "id": "2ac620e5",
   "metadata": {},
   "outputs": [],
   "source": [
    "def getMinMax(array):\n",
    "    print(\"getMinMax:\")\n",
    "    print(array[0,:])\n",
    "    print(\"getMinMaxEnd\")\n",
    "    minX = np.min(array[0,:])\n",
    "    minY = np.min(array[1,:])\n",
    "    maxX = np.max(array[0,:])\n",
    "    maxY = np.max(array[1,:])\n",
    "    return minX, minY, maxX, maxY"
   ]
  },
  {
   "cell_type": "code",
   "execution_count": 71,
   "id": "c553274d",
   "metadata": {},
   "outputs": [
    {
     "name": "stdout",
     "output_type": "stream",
     "text": [
      "getMinMax:\n",
      "[  1  -1 -10   9   8]\n",
      "getMinMaxEnd\n"
     ]
    },
    {
     "data": {
      "text/plain": [
       "(-10, -9, 9, 101)"
      ]
     },
     "execution_count": 71,
     "metadata": {},
     "output_type": "execute_result"
    }
   ],
   "source": [
    "# Testing block:\n",
    "array = np.array([[1,-1,-10,9,8],[3,101,-9,0,7],[1,2,3,4,5]])\n",
    "getMinMax(array)"
   ]
  },
  {
   "cell_type": "code",
   "execution_count": 80,
   "id": "905a410e",
   "metadata": {},
   "outputs": [],
   "source": [
    "def computeHomographyAndConcat(img1, img2):\n",
    "    imgSizeX1 = img1.shape[0]\n",
    "    imgSizeY1 = img1.shape[1]\n",
    "    imgSizeX2 = img2.shape[0]\n",
    "    imgSizeY2 = img2.shape[1]\n",
    "#     newSizeX = img2.shape[0] * 2\n",
    "#     newSizeY = img2.shape[1] * 2\n",
    "#     newImg = np.zeros((newSizeX, newSizeY, 3),np.uint8)\n",
    "    #     newSizeX = img2.shape[0]\n",
    "    #     newSizeY = img2.shape[1]\n",
    "    #     newImg = img2\n",
    "    \n",
    "#     # prepare img2 to the new Img:\n",
    "#     for i in range(0,int(newSizeX/2)):\n",
    "#         for j in range(0,int(newSizeY/2)):\n",
    "#             newImg[i][j] = img2[i][j]\n",
    "\n",
    "    \n",
    "    # read the chosen points:\n",
    "    chosenPts1, chosenPts2 = choosePoints(img1, img2)\n",
    "    \n",
    "    H = getHomography(chosenPts1[0], chosenPts1[1], chosenPts1[2], chosenPts1[3],\n",
    "                      chosenPts2[0], chosenPts2[1], chosenPts2[2], chosenPts2[3])\n",
    "    HInverse = np.linalg.pinv(H)\n",
    "    \n",
    "    # get the orgPoses as an array of size 3*imgSize not an img:\n",
    "    arrOrgPos = np.zeros((3,imgSizeX1*imgSizeY1))\n",
    "    cnt = 0\n",
    "    for i in range(0, imgSizeX1):\n",
    "        for j in range(0, imgSizeX1):\n",
    "            arrOrgPos[:,cnt] = HInverse.dot(np.array([i,j,1]))\n",
    "            arrOrgPos[:,cnt] = arrOrgPos[:,cnt]/arrOrgPos[2,cnt]\n",
    "            arrOrgPos[0,cnt] = int(arrOrgPos[0,cnt])\n",
    "            arrOrgPos[1,cnt] = int(arrOrgPos[1,cnt])\n",
    "#             print(arrOrgPos[0,cnt],arrOrgPos[1,cnt],arrOrgPos[2,cnt])\n",
    "            cnt+=1\n",
    "    # get the minimum and maximum poses of the orgPoses\n",
    "    minX, minY, maxX, maxY = getMinMax(arrOrgPos)\n",
    "    print(minX, minY, maxX, maxY)\n",
    "    # shifting img1, shifting the maximum size of the canvas\n",
    "    shiftX = 0\n",
    "    shiftY = 0\n",
    "    if minX < 0:\n",
    "        arrOrgPos[0,:] += abs(minX)\n",
    "        shiftX = int(abs(minX))\n",
    "        maxX += abs(minX)\n",
    "    if minY < 0:\n",
    "        arrOrgPos[1,:] += abs(minY)\n",
    "        shiftY = int(abs(minY))\n",
    "        maxY += abs(minY)\n",
    "    # get the new canvas\n",
    "    newSizeX = int(maxX)+imgSizeX2\n",
    "    newSizeY = int(maxY)+imgSizeY2\n",
    "    newImg = np.zeros((newSizeX, newSizeY, 3),np.uint8)\n",
    "    # prepare img2 on the new canvas\n",
    "    for i in range(0,int(imgSizeX2)):\n",
    "        for j in range(0,int(imgSizeY2)):\n",
    "            newImg[i+shiftX][j+shiftY] = img2[i][j]\n",
    "    # loop to prepare img1 on the new canvas\n",
    "#     cnt = 0\n",
    "#     for i in range(0, newSizeY):\n",
    "#         for j in range(0, newSizeX):\n",
    "#             orgPosX = int(arrOrgPos[0][cnt]) # round the indexes to integer\n",
    "#             orgPosY = int(arrOrgPos[1][cnt])\n",
    "#             if((orgPosX >= 0 and orgPosX < imgSizeY1) and (orgPosY >= 0 and orgPosY < imgSizeX1)):\n",
    "#                 newImg[j][i] = img1[orgPosY][orgPosX]     \n",
    "    \n",
    "    for i in range(0, newSizeY):\n",
    "        for j in range(0, newSizeX):\n",
    "            newPos = np.array([i, j, 1])\n",
    "            orgPos = HInverse.dot(newPos) # find the corresponding indexes in the original image by H^(-1)\n",
    "            orgPos = orgPos/orgPos[2] # normalize the indexes\n",
    "            orgPosX = int(orgPos[0]) # round the indexes to integer\n",
    "            orgPosY = int(orgPos[1])\n",
    "            orgPosX += shiftX\n",
    "            if((orgPosX >= 0 and orgPosX < imgSizeY1) and (orgPosY >= 0 and orgPosY < imgSizeX1)):\n",
    "                newImg[j+shiftX][i+shiftY] = img1[orgPosY][orgPosX]       \n",
    "                \n",
    "    # Draw img\n",
    "    plt.imshow(newImg/255)\n",
    "    plt.show()"
   ]
  },
  {
   "cell_type": "code",
   "execution_count": 81,
   "id": "a0e2e5a1",
   "metadata": {},
   "outputs": [
    {
     "name": "stdout",
     "output_type": "stream",
     "text": [
      "(19.500000000000014, 288.3311688311688) (292.22727272727275, 284.4350649350649) (18.201298701298725, 398.72077922077915) (268.8506493506494, 420.79870129870125) (325.9935064935065, 259.75974025974017) (570.1493506493508, 258.4610389610389) (325.9935064935065, 377.9415584415584) (554.5649350649352, 438.98051948051943)\n",
      "getMinMax:\n",
      "[-714. -713. -713. ...    0.    0.    0.]\n",
      "getMinMaxEnd\n",
      "-714.0 -107.0 215.0 588.0\n"
     ]
    }
   ],
   "source": [
    "# Testing block\n",
    "img1 = cv2.imread('im01.jpg')\n",
    "img1 = cv2.cvtColor(img1, cv2.COLOR_BGR2RGB)\n",
    "img2 = cv2.imread('im02.jpg')\n",
    "img2 = cv2.cvtColor(img2, cv2.COLOR_BGR2RGB)\n",
    "computeHomographyAndConcat(img2, img1)"
   ]
  },
  {
   "cell_type": "code",
   "execution_count": null,
   "id": "183b7fd9",
   "metadata": {},
   "outputs": [],
   "source": []
  }
 ],
 "metadata": {
  "kernelspec": {
   "display_name": "Python 3 (ipykernel)",
   "language": "python",
   "name": "python3"
  },
  "language_info": {
   "codemirror_mode": {
    "name": "ipython",
    "version": 3
   },
   "file_extension": ".py",
   "mimetype": "text/x-python",
   "name": "python",
   "nbconvert_exporter": "python",
   "pygments_lexer": "ipython3",
   "version": "3.9.12"
  }
 },
 "nbformat": 4,
 "nbformat_minor": 5
}
