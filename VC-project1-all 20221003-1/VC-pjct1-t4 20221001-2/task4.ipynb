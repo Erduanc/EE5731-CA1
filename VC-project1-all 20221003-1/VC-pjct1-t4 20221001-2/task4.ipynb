{
 "cells": [
  {
   "cell_type": "markdown",
   "id": "b5190b84",
   "metadata": {},
   "source": [
    "# Task 4: Manual Homography + Sticthing"
   ]
  },
  {
   "cell_type": "code",
   "execution_count": 1,
   "id": "c0e3395f",
   "metadata": {},
   "outputs": [],
   "source": [
    "import numpy as np\n",
    "import scipy.linalg as linalg\n",
    "import cv2\n",
    "from PIL import Image\n",
    "from pylab import *\n",
    "import matplotlib as mpl\n",
    "import matplotlib.pyplot as plt\n",
    "import yaml\n",
    "import cv2\n",
    "\n",
    "%matplotlib inline\n",
    "%config InlineBackend.figure_format = 'retina'"
   ]
  },
  {
   "cell_type": "code",
   "execution_count": 2,
   "id": "08020fd5",
   "metadata": {},
   "outputs": [],
   "source": [
    "def getHomography(x1, x2, x3, x4, y1, y2, y3, y4):\n",
    "    print(x1, x2, x3, x4, y1, y2, y3, y4)\n",
    "    A = np.array([[x1[0],x1[1],1, 0,0,0, -x1[0]*y1[0],-x1[1]*y1[0],-y1[0]],\n",
    "                  [0,0,0, x1[0],x1[1],1, -x1[0]*y1[1],-x1[1]*y1[1],-y1[1]],\n",
    "                  [x2[0],x2[1],1, 0,0,0, -x2[0]*y2[0],-x2[1]*y2[0],-y2[0]],\n",
    "                  [0,0,0, x2[0],x2[1],1, -x2[0]*y2[1],-x2[1]*y2[1],-y2[1]],\n",
    "                  [x3[0],x3[1],1, 0,0,0, -x3[0]*y3[0],-x3[1]*y3[0],-y3[0]],\n",
    "                  [0,0,0, x3[0],x3[1],1, -x3[0]*y3[1],-x3[1]*y3[1],-y3[1]],\n",
    "                  [x4[0],x4[1],1, 0,0,0, -x4[0]*y4[0],-x4[1]*y4[0],-y4[0]],\n",
    "                  [0,0,0, x4[0],x4[1],1, -x4[0]*y4[1],-x4[1]*y4[1],-y4[1]]])\n",
    "#     print(A)\n",
    "    U, D, Vt = linalg.svd(A)\n",
    "    H = Vt[-1].reshape(3,3)\n",
    "#     print(H)\n",
    "    \n",
    "    return H"
   ]
  },
  {
   "cell_type": "code",
   "execution_count": 3,
   "id": "f2368fbf",
   "metadata": {},
   "outputs": [],
   "source": [
    "%matplotlib tk\n",
    "def choosePoints(img1, img2):\n",
    "\n",
    "    matplotlib.use('TkAgg')\n",
    "\n",
    "    imshow(img1, interpolation='none')\n",
    "    chosenPoints1 = ginput(4) \n",
    "    print(chosenPoints1)\n",
    "    \n",
    "    imshow(img2, interpolation='none')\n",
    "    chosenPoints2 = ginput(4) \n",
    "    print(chosenPoints2)\n",
    "    \n",
    "    return chosenPoints1, chosenPoints2"
   ]
  },
  {
   "cell_type": "code",
   "execution_count": 4,
   "id": "2ac620e5",
   "metadata": {},
   "outputs": [],
   "source": [
    "def getMinMax(array):\n",
    "    print(\"getMinMax:\")\n",
    "    print(array[0,:])\n",
    "    print(\"getMinMaxEnd\")\n",
    "    minX = np.min(array[0,:])\n",
    "    minY = np.min(array[1,:])\n",
    "    maxX = np.max(array[0,:])\n",
    "    maxY = np.max(array[1,:])\n",
    "    return minX, minY, maxX, maxY"
   ]
  },
  {
   "cell_type": "code",
   "execution_count": 5,
   "id": "c553274d",
   "metadata": {},
   "outputs": [
    {
     "name": "stdout",
     "output_type": "stream",
     "text": [
      "getMinMax:\n",
      "[  1  -1 -10   9   8]\n",
      "getMinMaxEnd\n"
     ]
    },
    {
     "data": {
      "text/plain": [
       "(-10, -9, 9, 101)"
      ]
     },
     "execution_count": 5,
     "metadata": {},
     "output_type": "execute_result"
    }
   ],
   "source": [
    "# Testing block:\n",
    "array = np.array([[1,-1,-10,9,8],[3,101,-9,0,7],[1,2,3,4,5]])\n",
    "getMinMax(array)"
   ]
  },
  {
   "cell_type": "code",
   "execution_count": 6,
   "id": "905a410e",
   "metadata": {},
   "outputs": [],
   "source": [
    "def computeHomographyAndConcat(img1, img2):\n",
    "    imgSizeX1 = img1.shape[0]\n",
    "    imgSizeY1 = img1.shape[1]\n",
    "    imgSizeX2 = img2.shape[0]\n",
    "    imgSizeY2 = img2.shape[1]\n",
    "    \n",
    "    # read the chosen points:\n",
    "    chosenPts1, chosenPts2 = choosePoints(img1, img2)\n",
    "    \n",
    "    H = getHomography(chosenPts1[0], chosenPts1[1], chosenPts1[2], chosenPts1[3],\n",
    "                      chosenPts2[0], chosenPts2[1], chosenPts2[2], chosenPts2[3])\n",
    "    HInverse = np.linalg.pinv(H)\n",
    "    \n",
    "    # get the orgPoses as an array of size 3*imgSize not an img:\n",
    "    arrOrgPos = np.zeros((3,imgSizeX1*imgSizeY1))\n",
    "    cnt = 0\n",
    "    for i in range(0, imgSizeX1):\n",
    "        for j in range(0, imgSizeX1):\n",
    "            arrOrgPos[:,cnt] = HInverse.dot(np.array([i,j,1]))\n",
    "            arrOrgPos[:,cnt] = arrOrgPos[:,cnt]/arrOrgPos[2,cnt]\n",
    "            arrOrgPos[0,cnt] = int(arrOrgPos[0,cnt])\n",
    "            arrOrgPos[1,cnt] = int(arrOrgPos[1,cnt])\n",
    "#             print(arrOrgPos[0,cnt],arrOrgPos[1,cnt],arrOrgPos[2,cnt])\n",
    "            cnt+=1\n",
    "    # get the minimum and maximum poses of the orgPoses\n",
    "    minX, minY, maxX, maxY = getMinMax(arrOrgPos)\n",
    "    print(minX, minY, maxX, maxY)\n",
    "    # shifting img1, shifting the maximum size of the canvas\n",
    "    shiftX = 0\n",
    "    shiftY = 0\n",
    "    if minX < 0:\n",
    "        arrOrgPos[0,:] += abs(minX)\n",
    "        shiftX = int(abs(minX))\n",
    "        maxX += abs(minX)\n",
    "    if minY < 0:\n",
    "        arrOrgPos[1,:] += abs(minY)\n",
    "        shiftY = int(abs(minY))\n",
    "        maxY += abs(minY)\n",
    "    # get the new canvas\n",
    "    newSizeX = int(maxX)+imgSizeX2\n",
    "    newSizeY = int(maxY)+imgSizeY2\n",
    "    newImg = np.zeros((newSizeX, newSizeY, 3),np.uint8)\n",
    "    # prepare img2 on the new canvas\n",
    "    for i in range(0,int(imgSizeX2)):\n",
    "        for j in range(0,int(imgSizeY2)):\n",
    "            newImg[i+shiftX][j+shiftY] = img2[i][j]   \n",
    "    \n",
    "    for i in range(0, newSizeY):\n",
    "        for j in range(0, newSizeX):\n",
    "            newPos = np.array([i, j, 1])\n",
    "            orgPos = HInverse.dot(newPos) # find the corresponding indexes in the original image by H^(-1)\n",
    "            orgPos = orgPos/orgPos[2] # normalize the indexes\n",
    "            orgPosX = int(orgPos[0]) # round the indexes to integer\n",
    "            orgPosY = int(orgPos[1]) \n",
    "            if((orgPosX >= 0 and orgPosX < imgSizeY1) and (orgPosY >= 0 and orgPosY < imgSizeX1)):\n",
    "                if(j+shiftX < newSizeX and i+shiftY < newSizeY):\n",
    "                    newImg[j+shiftX][i+shiftY] = img1[orgPosY][orgPosX]       \n",
    "                \n",
    "    # Draw img\n",
    "    %matplotlib inline\n",
    "    %config InlineBackend.figure_format = 'retina'\n",
    "    plt.imshow(newImg/255)\n",
    "    plt.show()"
   ]
  },
  {
   "cell_type": "code",
   "execution_count": 7,
   "id": "a0e2e5a1",
   "metadata": {},
   "outputs": [
    {
     "name": "stdout",
     "output_type": "stream",
     "text": [
      "[]\n",
      "[]\n"
     ]
    },
    {
     "ename": "IndexError",
     "evalue": "list index out of range",
     "output_type": "error",
     "traceback": [
      "\u001b[1;31m---------------------------------------------------------------------------\u001b[0m",
      "\u001b[1;31mIndexError\u001b[0m                                Traceback (most recent call last)",
      "Input \u001b[1;32mIn [7]\u001b[0m, in \u001b[0;36m<cell line: 6>\u001b[1;34m()\u001b[0m\n\u001b[0;32m      4\u001b[0m img2 \u001b[38;5;241m=\u001b[39m cv2\u001b[38;5;241m.\u001b[39mimread(\u001b[38;5;124m'\u001b[39m\u001b[38;5;124mim02.jpg\u001b[39m\u001b[38;5;124m'\u001b[39m)\n\u001b[0;32m      5\u001b[0m img2 \u001b[38;5;241m=\u001b[39m cv2\u001b[38;5;241m.\u001b[39mcvtColor(img2, cv2\u001b[38;5;241m.\u001b[39mCOLOR_BGR2RGB)\n\u001b[1;32m----> 6\u001b[0m \u001b[43mcomputeHomographyAndConcat\u001b[49m\u001b[43m(\u001b[49m\u001b[43mimg2\u001b[49m\u001b[43m,\u001b[49m\u001b[43m \u001b[49m\u001b[43mimg1\u001b[49m\u001b[43m)\u001b[49m\n",
      "Input \u001b[1;32mIn [6]\u001b[0m, in \u001b[0;36mcomputeHomographyAndConcat\u001b[1;34m(img1, img2)\u001b[0m\n\u001b[0;32m      7\u001b[0m \u001b[38;5;66;03m# read the chosen points:\u001b[39;00m\n\u001b[0;32m      8\u001b[0m chosenPts1, chosenPts2 \u001b[38;5;241m=\u001b[39m choosePoints(img1, img2)\n\u001b[1;32m---> 10\u001b[0m H \u001b[38;5;241m=\u001b[39m getHomography(\u001b[43mchosenPts1\u001b[49m\u001b[43m[\u001b[49m\u001b[38;5;241;43m0\u001b[39;49m\u001b[43m]\u001b[49m, chosenPts1[\u001b[38;5;241m1\u001b[39m], chosenPts1[\u001b[38;5;241m2\u001b[39m], chosenPts1[\u001b[38;5;241m3\u001b[39m],\n\u001b[0;32m     11\u001b[0m                   chosenPts2[\u001b[38;5;241m0\u001b[39m], chosenPts2[\u001b[38;5;241m1\u001b[39m], chosenPts2[\u001b[38;5;241m2\u001b[39m], chosenPts2[\u001b[38;5;241m3\u001b[39m])\n\u001b[0;32m     12\u001b[0m HInverse \u001b[38;5;241m=\u001b[39m np\u001b[38;5;241m.\u001b[39mlinalg\u001b[38;5;241m.\u001b[39mpinv(H)\n\u001b[0;32m     14\u001b[0m \u001b[38;5;66;03m# get the orgPoses as an array of size 3*imgSize not an img:\u001b[39;00m\n",
      "\u001b[1;31mIndexError\u001b[0m: list index out of range"
     ]
    }
   ],
   "source": [
    "# Testing block\n",
    "img1 = cv2.imread('im01.jpg')\n",
    "img1 = cv2.cvtColor(img1, cv2.COLOR_BGR2RGB)\n",
    "img2 = cv2.imread('im02.jpg')\n",
    "img2 = cv2.cvtColor(img2, cv2.COLOR_BGR2RGB)\n",
    "computeHomographyAndConcat(img2, img1)"
   ]
  },
  {
   "cell_type": "code",
   "execution_count": null,
   "id": "183b7fd9",
   "metadata": {},
   "outputs": [],
   "source": [
    "def computeHomographyAndConcat1(img1, img2):\n",
    "    imgSizeX1 = img1.shape[0]\n",
    "    imgSizeY1 = img1.shape[1]\n",
    "    imgSizeX2 = img2.shape[0]\n",
    "    imgSizeY2 = img2.shape[1]\n",
    "#     newSizeX = img2.shape[0] * 2\n",
    "#     newSizeY = img2.shape[1] * 2\n",
    "#     newImg = np.zeros((newSizeX, newSizeY, 3),np.uint8)\n",
    "    #     newSizeX = img2.shape[0]\n",
    "    #     newSizeY = img2.shape[1]\n",
    "    #     newImg = img2\n",
    "    \n",
    "#     # prepare img2 to the new Img:\n",
    "#     for i in range(0,int(newSizeX/2)):\n",
    "#         for j in range(0,int(newSizeY/2)):\n",
    "#             newImg[i][j] = img2[i][j]\n",
    "\n",
    "    \n",
    "    # read the chosen points:\n",
    "    chosenPts1, chosenPts2 = choosePoints(img1, img2)\n",
    "    \n",
    "    H = getHomography(chosenPts1[0], chosenPts1[1], chosenPts1[2], chosenPts1[3],\n",
    "                      chosenPts2[0], chosenPts2[1], chosenPts2[2], chosenPts2[3])\n",
    "#     HInverse = np.linalg.pinv(H)\n",
    "    \n",
    "    # get the orgPoses as an array of size 3*imgSize not an img:\n",
    "    newPos = np.zeros((3,imgSizeX1*imgSizeY1))\n",
    "    cnt = 0\n",
    "    for i in range(0, imgSizeY1):\n",
    "        for j in range(0, imgSizeX1):\n",
    "            newPos[:,cnt] = H.dot(np.array([i,j,1]))\n",
    "            newPos[:,cnt] = newPos[:,cnt]/newPos[2,cnt]\n",
    "            newPos[0,cnt] = int(newPos[0,cnt])\n",
    "            newPos[1,cnt] = int(newPos[1,cnt])\n",
    "#             print(newPos[0,cnt],newPos[1,cnt],newPos[2,cnt])\n",
    "            cnt+=1\n",
    "    # get the minimum and maximum poses of the orgPoses\n",
    "    minX, minY, maxX, maxY = getMinMax(newPos)\n",
    "    print(minX, minY, maxX, maxY)\n",
    "    # shifting img1, shifting the maximum size of the canvas\n",
    "    shiftX = 0\n",
    "    shiftY = 0\n",
    "    if minX < 0:\n",
    "        newPos[0,:] += abs(minX)\n",
    "        shiftX = int(abs(minX))\n",
    "        maxX += abs(minX)\n",
    "    if minY < 0:\n",
    "        newPos[1,:] += abs(minY)\n",
    "        shiftY = int(abs(minY))\n",
    "        maxY += abs(minY)\n",
    "    # get the new canvas\n",
    "    newSizeX = int(maxX)+imgSizeX2\n",
    "    newSizeY = int(maxY)+imgSizeY2\n",
    "    newImg = np.zeros((newSizeX, newSizeY, 3),np.uint8)\n",
    "    # prepare img2 on the new canvas\n",
    "    for i in range(0,int(imgSizeX2)):\n",
    "        for j in range(0,int(imgSizeY2)):\n",
    "            newImg[i+shiftY][j+shiftX] = img2[i][j]\n",
    "    # loop to prepare img1 on the new canvas\n",
    "    cnt = 0\n",
    "    for i in range(0, imgSizeY1):\n",
    "        for j in range(0, imgSizeX1):\n",
    "            newPosX = int(newPos[0][cnt]) # round the indexes to integer\n",
    "            newPosY = int(newPos[1][cnt])\n",
    "            if((newPosX >= 0 and newPosX < newSizeY) and (newPosY >= 0 and newPosY < newSizeX)):\n",
    "                newImg[newPosY][newPosX] = img1[j][i]\n",
    "            cnt+=1     \n",
    "                \n",
    "    # Draw img\n",
    "    %matplotlib inline\n",
    "    %config InlineBackend.figure_format = 'retina'\n",
    "    plt.imshow(newImg/255)\n",
    "    plt.show()"
   ]
  },
  {
   "cell_type": "code",
   "execution_count": null,
   "id": "2ec8e5b8",
   "metadata": {},
   "outputs": [],
   "source": [
    "# Testing block\n",
    "img1 = cv2.imread('im01.jpg')\n",
    "img1 = cv2.cvtColor(img1, cv2.COLOR_BGR2RGB)\n",
    "img2 = cv2.imread('im02.jpg')\n",
    "img2 = cv2.cvtColor(img2, cv2.COLOR_BGR2RGB)\n",
    "computeHomographyAndConcat1(img2, img1)"
   ]
  },
  {
   "cell_type": "code",
   "execution_count": null,
   "id": "c56ad2aa",
   "metadata": {},
   "outputs": [],
   "source": []
  }
 ],
 "metadata": {
  "kernelspec": {
   "display_name": "Python 3 (ipykernel)",
   "language": "python",
   "name": "python3"
  },
  "language_info": {
   "codemirror_mode": {
    "name": "ipython",
    "version": 3
   },
   "file_extension": ".py",
   "mimetype": "text/x-python",
   "name": "python",
   "nbconvert_exporter": "python",
   "pygments_lexer": "ipython3",
   "version": "3.9.12"
  }
 },
 "nbformat": 4,
 "nbformat_minor": 5
}
