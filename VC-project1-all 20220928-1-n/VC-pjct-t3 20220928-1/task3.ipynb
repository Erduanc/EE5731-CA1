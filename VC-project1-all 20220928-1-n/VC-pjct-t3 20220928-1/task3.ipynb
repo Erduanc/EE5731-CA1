{
 "cells": [
  {
   "cell_type": "markdown",
   "id": "eeda43a7",
   "metadata": {},
   "source": [
    "# Homography\n",
    "Firstly, write a function that computes homography given 4 chosen points:"
   ]
  },
  {
   "cell_type": "code",
   "execution_count": 38,
   "id": "0646b14c",
   "metadata": {},
   "outputs": [],
   "source": [
    "import numpy as np\n",
    "import scipy.linalg as linalg\n",
    "import cv2\n",
    "from PIL import Image\n",
    "from pylab import *\n",
    "import matplotlib as mpl\n",
    "import matplotlib.pyplot as plt\n",
    "import yaml\n",
    "import cv2\n",
    "\n",
    "%matplotlib inline\n",
    "%config InlineBackend.figure_format = 'retina'"
   ]
  },
  {
   "cell_type": "code",
   "execution_count": 39,
   "id": "1dc5ab55",
   "metadata": {},
   "outputs": [],
   "source": [
    "def getHomography(x1, x2, x3, x4, y1, y2, y3, y4):\n",
    "    print(x1, x2, x3, x4, y1, y2, y3, y4)\n",
    "    A = np.array([[x1[0],x1[1],1, 0,0,0, -x1[0]*y1[0],-x1[1]*y1[0],-y1[0]],\n",
    "                  [0,0,0, x1[0],x1[1],1, -x1[0]*y1[1],-x1[1]*y1[1],-y1[1]],\n",
    "                  [x2[0],x2[1],1, 0,0,0, -x2[0]*y2[0],-x2[1]*y2[0],-y2[0]],\n",
    "                  [0,0,0, x2[0],x2[1],1, -x2[0]*y2[1],-x2[1]*y2[1],-y2[1]],\n",
    "                  [x3[0],x3[1],1, 0,0,0, -x3[0]*y3[0],-x3[1]*y3[0],-y3[0]],\n",
    "                  [0,0,0, x3[0],x3[1],1, -x3[0]*y3[1],-x3[1]*y3[1],-y3[1]],\n",
    "                  [x4[0],x4[1],1, 0,0,0, -x4[0]*y4[0],-x4[1]*y4[0],-y4[0]],\n",
    "                  [0,0,0, x4[0],x4[1],1, -x4[0]*y4[1],-x4[1]*y4[1],-y4[1]]])\n",
    "#     print(A)\n",
    "    U, D, Vt = linalg.svd(A)\n",
    "    H = Vt[-1].reshape(3,3)\n",
    "#     print(H)\n",
    "    \n",
    "    return H"
   ]
  },
  {
   "cell_type": "code",
   "execution_count": 57,
   "id": "4c68abfe",
   "metadata": {},
   "outputs": [
    {
     "name": "stdout",
     "output_type": "stream",
     "text": [
      "[93, 63] [293, 868] [1207, 998] [1218, 309] [-7, 0] [3, -6] [7, -4] [3, 2]\n",
      "[[ 7.66575414e-04  1.58444870e-03 -9.92728904e-01]\n",
      " [ 6.18613947e-04 -1.66221257e-03  4.71882946e-02]\n",
      " [ 1.53502369e-07  1.05575751e-04  1.10708327e-01]]\n",
      "[ 3. -6.  1.]\n"
     ]
    }
   ],
   "source": [
    "# Testing block:\n",
    "# getHomography(np.array([11, 12]), np.array([21, 22]), np.array([31,32]), np.array([41,42]), \n",
    "#               np.array([110, 120]), np.array([210, 220]), np.array([310,320]), np.array([410, 420]))\n",
    "# x_1 = [93,-7]\n",
    "# y_1 = [63,0]\n",
    "# x_2 = [293,3]\n",
    "# y_2 = [868,-6]\n",
    "# x_3 = [1207,7]\n",
    "# y_3 = [998,-4]\n",
    "# x_4 = [1218,3]\n",
    "# y_4 = [309,2]\n",
    "\n",
    "x_1 = [93,63]\n",
    "y_1 = [-7,0]\n",
    "x_2 = [293,868]\n",
    "y_2 = [3,-6]\n",
    "x_3 = [1207,998]\n",
    "y_3 = [7,-4]\n",
    "x_4 = [1218,309]\n",
    "y_4 = [3,2]\n",
    "H = getHomography(x_1, x_2, x_3, x_4, y_1, y_2, y_3, y_4)\n",
    "print(H)\n",
    "y_t = np.matmul(H, np.array([293,868,1]))\n",
    "y_t = y_t/y_t[2]\n",
    "print(y_t)"
   ]
  },
  {
   "cell_type": "code",
   "execution_count": 41,
   "id": "b26614e4",
   "metadata": {},
   "outputs": [
    {
     "name": "stdout",
     "output_type": "stream",
     "text": [
      "[[ 7.66575414e-04  1.58444870e-03 -9.92728904e-01]\n",
      " [ 6.18613947e-04 -1.66221257e-03  4.71882946e-02]\n",
      " [ 1.53502369e-07  1.05575751e-04  1.10708327e-01]]\n"
     ]
    }
   ],
   "source": [
    "# Testing block:\n",
    "x_1 = [93,-7]\n",
    "y_1 = [63,0]\n",
    "x_2 = [293,3]\n",
    "y_2 = [868,-6]\n",
    "x_3 = [1207,7]\n",
    "y_3 = [998,-4]\n",
    "x_4 = [1218,3]\n",
    "y_4 = [309,2]\n",
    "P = np.array([\n",
    "    [-x_1[0], -y_1[0], -1, 0, 0, 0, x_1[0]*x_1[1], y_1[0]*x_1[1], x_1[1]],\n",
    "    [0, 0, 0, -x_1[0], -y_1[0], -1, x_1[0]*y_1[1], y_1[0]*y_1[1], y_1[1]],\n",
    "    [-x_2[0], -y_2[0], -1, 0, 0, 0, x_2[0]*x_2[1], y_2[0]*x_2[1], x_2[1]],\n",
    "    [0, 0, 0, -x_2[0], -y_2[0], -1, x_2[0]*y_2[1], y_2[0]*y_2[1], y_2[1]],\n",
    "    [-x_3[0], -y_3[0], -1, 0, 0, 0, x_3[0]*x_3[1], y_3[0]*x_3[1], x_3[1]],\n",
    "    [0, 0, 0, -x_3[0], -y_3[0], -1, x_3[0]*y_3[1], y_3[0]*y_3[1], y_3[1]],\n",
    "    [-x_4[0], -y_4[0], -1, 0, 0, 0, x_4[0]*x_4[1], y_4[0]*x_4[1], x_4[1]],\n",
    "    [0, 0, 0, -x_4[0], -y_4[0], -1, x_4[0]*y_4[1], y_4[0]*y_4[1], y_4[1]],\n",
    "    ])\n",
    "\n",
    "[U, S, Vt] = np.linalg.svd(P)\n",
    "homography = Vt[-1].reshape(3, 3)\n",
    "print(homography)\n",
    "# transformedPoint = homography @ np.array([1679,  128, 1]).transpose()\n",
    "# print(transformedPoint/transformedPoint[-1]) # will be ~[4, 7, 1]"
   ]
  },
  {
   "cell_type": "markdown",
   "id": "eacf7c1c",
   "metadata": {},
   "source": [
    "Second of all, allow users to select points on images:"
   ]
  },
  {
   "cell_type": "code",
   "execution_count": 42,
   "id": "0515b47e",
   "metadata": {},
   "outputs": [],
   "source": [
    "%matplotlib tk\n",
    "def choosePoints(img1, img2):\n",
    "\n",
    "    matplotlib.use('TkAgg')\n",
    "\n",
    "#     img1 = Image.open('h1.jpg')\n",
    "#     arrImg1 = np.array(img1)\n",
    "    imshow(img1, interpolation='none')\n",
    "    chosenPoints1 = ginput(4) \n",
    "    print(chosenPoints1)\n",
    "    \n",
    "#     img2 = Image.open('h2.jpg')\n",
    "#     arrImg2 = np.array(img2)\n",
    "    imshow(img2, interpolation='none')\n",
    "    chosenPoints2 = ginput(4) \n",
    "    print(chosenPoints2)\n",
    "    \n",
    "    return chosenPoints1, chosenPoints2"
   ]
  },
  {
   "cell_type": "markdown",
   "id": "21413b13",
   "metadata": {},
   "source": [
    "Third of all, we need to involve our images with the getHomography function. So we need to import the images, then compute image matrix multiplying with the homography."
   ]
  },
  {
   "cell_type": "code",
   "execution_count": null,
   "id": "e780cde4",
   "metadata": {},
   "outputs": [],
   "source": [
    "def computeHomographyTransformation(img1, img2):\n",
    "#     img1 = cv2.imread('h1.jpg')\n",
    "#     arrImg1 = np.array(Image.open('h1.jpg').convert('L'),'f')\n",
    "#     img2 = cv2.imread('h2.jpg')\n",
    "#     arrImg1 = np.array(Image.open('h1.jpg').convert('L'),'f')\n",
    "    imgSizeX = img1.shape[0]\n",
    "    imgSizeY = img1.shape[1]\n",
    "    newSizeX = img2.shape[0]*2\n",
    "    newSizeY = img2.shape[1]*2\n",
    "    newImg = np.zeros((newSizeX, newSizeY, 3),np.uint8)\n",
    "    \n",
    "    # read the chosen points:\n",
    "    chosenPts1, chosenPts2 = choosePoints(img1, img2)\n",
    "    \n",
    "    \n",
    "    H = getHomography(chosenPts1[0], chosenPts1[1], chosenPts1[2], chosenPts1[3],\n",
    "                      chosenPts2[0], chosenPts2[1], chosenPts2[2], chosenPts2[3])\n",
    "    HInverse = np.linalg.pinv(H)\n",
    "#     H = getHomography(chosenPts1[0], chosenPts1[1], chosenPts1[2], chosenPts1[3],\n",
    "#                       chosenPts1[0], chosenPts1[1], chosenPts1[2], chosenPts1[3])\n",
    "    \n",
    "    # transform img1 to img2:\n",
    "    for i in range(0, newSizeX):\n",
    "        for j in range(0,newSizeY):\n",
    "            newPos = np.array([i, j, 1])\n",
    "#             print(newPos)\n",
    "            orgPos = np.matmul(HInverse, newPos)\n",
    "            orgPos = orgPos/orgPos[2]\n",
    "#             print(orgPos)\n",
    "            orgPosX = orgPos[0]\n",
    "            orgPosY = orgPos[1]\n",
    "            if(orgPosX >= 0 and orgPosX < imgSizeX and orgPosY >= 0 and orgPosY < imgSizeY):\n",
    "                newImg[i][j] = img1[int(orgPos[0])][int(orgPos[1])]\n",
    "#             newPos = np.matmul(H, np.array([i,j,1]))\n",
    "#             newPos = newPos/newPos[2]\n",
    "#             newPosX = int(newPos[0])\n",
    "#             newPosY = int(newPos[1])\n",
    "#             if(newPosX >=0 and newPosX < imgSizeX and newPosY >=0 and newPosY < imgSizeY):\n",
    "#                 newImg[newPosX][newPosY] = img1[i][j]\n",
    "    # Draw img\n",
    "    plt.imshow(cv2.cvtColor(newImg,cv2.COLOR_BGR2RGB), interpolation='none')\n",
    "    plt.show()"
   ]
  },
  {
   "cell_type": "code",
   "execution_count": 46,
   "id": "91228069",
   "metadata": {},
   "outputs": [
    {
     "name": "stdout",
     "output_type": "stream",
     "text": [
      "[(194.42273730684315, 195.0849889624726), (1011.1997792494479, 195.0849889624726), (183.3852097130242, 1022.8995584988963), (1011.1997792494479, 1022.8995584988963)]\n",
      "[(218.2509197939662, 76.27649006622528), (704.1780721118471, 89.7744665194997), (696.0792862398825, 273.3469462840324), (191.25496688741725, 438.0222590139809)]\n",
      "(194.42273730684315, 195.0849889624726) (1011.1997792494479, 195.0849889624726) (183.3852097130242, 1022.8995584988963) (1011.1997792494479, 1022.8995584988963) (218.2509197939662, 76.27649006622528) (704.1780721118471, 89.7744665194997) (696.0792862398825, 273.3469462840324) (191.25496688741725, 438.0222590139809)\n"
     ]
    }
   ],
   "source": [
    "# Testing block\n",
    "img1 = Image.open('h1.jpg')\n",
    "img2 = Image.open('h2.jpg')\n",
    "arrImg1 = np.array(img1.convert('L'),'f')\n",
    "arrImg2 = np.array(img2.convert('L'),'f')\n",
    "computeHomographyTransformation(arrImg1, arrImg2)\n",
    "# arrImg1 = np.array(Image.open('h1.jpg').convert('L'),'f')\n",
    "# arrImg2 = np.array(Image.open('h2.jpg').convert('L'),'f')\n",
    "# computeHomographyTransformation(img1, img2)"
   ]
  },
  {
   "cell_type": "code",
   "execution_count": 59,
   "id": "d11c30e5",
   "metadata": {},
   "outputs": [
    {
     "name": "stdout",
     "output_type": "stream",
     "text": [
      "[(326.234731420162, 273.3469462840324), (488.21044885945565, 181.56070640176603), (399.12380426784415, 348.93561442236944), (571.8979028697574, 257.14937454010305)]\n",
      "[(542.1048565121413, 498.61699779249454), (680.0739514348785, 515.173289183223), (553.1423841059601, 653.1423841059603), (680.0739514348785, 642.1048565121414)]\n",
      "(326.234731420162, 273.3469462840324) (488.21044885945565, 181.56070640176603) (399.12380426784415, 348.93561442236944) (571.8979028697574, 257.14937454010305) (542.1048565121413, 498.61699779249454) (680.0739514348785, 515.173289183223) (553.1423841059601, 653.1423841059603) (680.0739514348785, 642.1048565121414)\n"
     ]
    }
   ],
   "source": [
    "arrImg1 = np.array(Image.open('h1.jpg').convert('L'),'f')\n",
    "arrImg2 = np.array(Image.open('h2.jpg').convert('L'),'f')\n",
    "computeHomographyTransformation(arrImg2, arrImg1)"
   ]
  },
  {
   "cell_type": "markdown",
   "id": "ebe832cb",
   "metadata": {},
   "source": []
  },
  {
   "cell_type": "code",
   "execution_count": 13,
   "id": "5ed5c12c",
   "metadata": {},
   "outputs": [
    {
     "name": "stdout",
     "output_type": "stream",
     "text": [
      "[(195.3195364238411, 219.91942604856513), (990.0215231788081, 219.91942604856513), (209.1164459161148, 962.1931567328919), (1006.5778145695367, 959.4337748344371)]\n"
     ]
    }
   ],
   "source": [
    "# import matplotlib\n",
    "# %matplotlib tk\n",
    "\n",
    "# matplotlib.use('TkAgg')\n",
    "\n",
    "# img1 = Image.open('h1.jpg')\n",
    "# arrImg1 = np.array(img1)\n",
    "# imshow(img1)\n",
    "\n",
    "# chosenPoints1 = ginput(4) \n",
    "# print(chosenPoints1)\n"
   ]
  },
  {
   "cell_type": "code",
   "execution_count": 14,
   "id": "4abe2ddf",
   "metadata": {},
   "outputs": [
    {
     "name": "stdout",
     "output_type": "stream",
     "text": [
      "[(454.9041919610008, 84.37527593818993), (193.0434487674761, 227.45382634289922), (693.8183751839588, 289.5445180279618), (394.1632979212656, 448.8206401766005)]\n"
     ]
    }
   ],
   "source": [
    "# img2 = Image.open('h2.jpg')\n",
    "# arrImg2 = np.array(img2)\n",
    "# imshow(img2)\n",
    "\n",
    "# chosenPoints2 = ginput(4) \n",
    "# print(chosenPoints2)"
   ]
  },
  {
   "cell_type": "code",
   "execution_count": 9,
   "id": "4d77d72b",
   "metadata": {},
   "outputs": [],
   "source": []
  },
  {
   "cell_type": "code",
   "execution_count": null,
   "id": "611cd32b",
   "metadata": {},
   "outputs": [],
   "source": []
  }
 ],
 "metadata": {
  "kernelspec": {
   "display_name": "Python 3 (ipykernel)",
   "language": "python",
   "name": "python3"
  },
  "language_info": {
   "codemirror_mode": {
    "name": "ipython",
    "version": 3
   },
   "file_extension": ".py",
   "mimetype": "text/x-python",
   "name": "python",
   "nbconvert_exporter": "python",
   "pygments_lexer": "ipython3",
   "version": "3.9.12"
  }
 },
 "nbformat": 4,
 "nbformat_minor": 5
}
